{
  "nbformat": 4,
  "nbformat_minor": 0,
  "metadata": {
    "colab": {
      "name": "admissions_data_deep_learning.ipynb",
      "provenance": [],
      "authorship_tag": "ABX9TyM5tnkqml+65DtqHXQT3vpA",
      "include_colab_link": true
    },
    "kernelspec": {
      "name": "python3",
      "display_name": "Python 3"
    },
    "language_info": {
      "name": "python"
    }
  },
  "cells": [
    {
      "cell_type": "markdown",
      "metadata": {
        "id": "view-in-github",
        "colab_type": "text"
      },
      "source": [
        "<a href=\"https://colab.research.google.com/github/mannb986/admissions_data_deep_learning/blob/main/admissions_data_deep_learning.ipynb\" target=\"_parent\"><img src=\"https://colab.research.google.com/assets/colab-badge.svg\" alt=\"Open In Colab\"/></a>"
      ]
    },
    {
      "cell_type": "markdown",
      "metadata": {
        "id": "hFg4-YR25j7e"
      },
      "source": [
        "# Deep Learning Regression with Admissions Data\n",
        "\n",
        "The goal of this project is to create a regression model that predicts the likelihood that a student applying to graduate school will be accpeted based on various application factors (such as test scores). \n",
        "\n",
        "By analysing the parameters in the graduate admissions dataset I will use TensorFlow & Keras to create a regression model that can evaluate the chances of an applicant being admitted. "
      ]
    },
    {
      "cell_type": "markdown",
      "metadata": {
        "id": "mu8pROyG63pH"
      },
      "source": [
        "## Data Loading & Observing"
      ]
    },
    {
      "cell_type": "code",
      "metadata": {
        "colab": {
          "resources": {
            "http://localhost:8080/nbextensions/google.colab/files.js": {
              "data": "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",
              "ok": true,
              "headers": [
                [
                  "content-type",
                  "application/javascript"
                ]
              ],
              "status": 200,
              "status_text": ""
            }
          },
          "base_uri": "https://localhost:8080/",
          "height": 72
        },
        "id": "_TJpiJCAp4Hv",
        "outputId": "17441aa9-f75b-4451-b9ff-51089106d5b1"
      },
      "source": [
        " from google.colab import files\n",
        "\n",
        "\n",
        "uploaded = files.upload()"
      ],
      "execution_count": 1,
      "outputs": [
        {
          "output_type": "display_data",
          "data": {
            "text/html": [
              "\n",
              "     <input type=\"file\" id=\"files-77bb1a0c-15cd-4a9a-a129-c82ce5ba4cc5\" name=\"files[]\" multiple disabled\n",
              "        style=\"border:none\" />\n",
              "     <output id=\"result-77bb1a0c-15cd-4a9a-a129-c82ce5ba4cc5\">\n",
              "      Upload widget is only available when the cell has been executed in the\n",
              "      current browser session. Please rerun this cell to enable.\n",
              "      </output>\n",
              "      <script src=\"/nbextensions/google.colab/files.js\"></script> "
            ],
            "text/plain": [
              "<IPython.core.display.HTML object>"
            ]
          },
          "metadata": {
            "tags": []
          }
        },
        {
          "output_type": "stream",
          "text": [
            "Saving admissions_data.csv to admissions_data (1).csv\n"
          ],
          "name": "stdout"
        }
      ]
    },
    {
      "cell_type": "code",
      "metadata": {
        "id": "IB5rHvxT66TI"
      },
      "source": [
        "import pandas as pd\n",
        "\n",
        "admissions_df = pd.read_csv('admissions_data.csv')"
      ],
      "execution_count": 2,
      "outputs": []
    },
    {
      "cell_type": "code",
      "metadata": {
        "colab": {
          "base_uri": "https://localhost:8080/",
          "height": 204
        },
        "id": "JnOICGNO7u9S",
        "outputId": "d74c451e-4db9-41df-eafc-7e3583dd1e62"
      },
      "source": [
        "admissions_df.head()"
      ],
      "execution_count": 3,
      "outputs": [
        {
          "output_type": "execute_result",
          "data": {
            "text/html": [
              "<div>\n",
              "<style scoped>\n",
              "    .dataframe tbody tr th:only-of-type {\n",
              "        vertical-align: middle;\n",
              "    }\n",
              "\n",
              "    .dataframe tbody tr th {\n",
              "        vertical-align: top;\n",
              "    }\n",
              "\n",
              "    .dataframe thead th {\n",
              "        text-align: right;\n",
              "    }\n",
              "</style>\n",
              "<table border=\"1\" class=\"dataframe\">\n",
              "  <thead>\n",
              "    <tr style=\"text-align: right;\">\n",
              "      <th></th>\n",
              "      <th>Serial No.</th>\n",
              "      <th>GRE Score</th>\n",
              "      <th>TOEFL Score</th>\n",
              "      <th>University Rating</th>\n",
              "      <th>SOP</th>\n",
              "      <th>LOR</th>\n",
              "      <th>CGPA</th>\n",
              "      <th>Research</th>\n",
              "      <th>Chance of Admit</th>\n",
              "    </tr>\n",
              "  </thead>\n",
              "  <tbody>\n",
              "    <tr>\n",
              "      <th>0</th>\n",
              "      <td>1</td>\n",
              "      <td>337</td>\n",
              "      <td>118</td>\n",
              "      <td>4</td>\n",
              "      <td>4.5</td>\n",
              "      <td>4.5</td>\n",
              "      <td>9.65</td>\n",
              "      <td>1</td>\n",
              "      <td>0.92</td>\n",
              "    </tr>\n",
              "    <tr>\n",
              "      <th>1</th>\n",
              "      <td>2</td>\n",
              "      <td>324</td>\n",
              "      <td>107</td>\n",
              "      <td>4</td>\n",
              "      <td>4.0</td>\n",
              "      <td>4.5</td>\n",
              "      <td>8.87</td>\n",
              "      <td>1</td>\n",
              "      <td>0.76</td>\n",
              "    </tr>\n",
              "    <tr>\n",
              "      <th>2</th>\n",
              "      <td>3</td>\n",
              "      <td>316</td>\n",
              "      <td>104</td>\n",
              "      <td>3</td>\n",
              "      <td>3.0</td>\n",
              "      <td>3.5</td>\n",
              "      <td>8.00</td>\n",
              "      <td>1</td>\n",
              "      <td>0.72</td>\n",
              "    </tr>\n",
              "    <tr>\n",
              "      <th>3</th>\n",
              "      <td>4</td>\n",
              "      <td>322</td>\n",
              "      <td>110</td>\n",
              "      <td>3</td>\n",
              "      <td>3.5</td>\n",
              "      <td>2.5</td>\n",
              "      <td>8.67</td>\n",
              "      <td>1</td>\n",
              "      <td>0.80</td>\n",
              "    </tr>\n",
              "    <tr>\n",
              "      <th>4</th>\n",
              "      <td>5</td>\n",
              "      <td>314</td>\n",
              "      <td>103</td>\n",
              "      <td>2</td>\n",
              "      <td>2.0</td>\n",
              "      <td>3.0</td>\n",
              "      <td>8.21</td>\n",
              "      <td>0</td>\n",
              "      <td>0.65</td>\n",
              "    </tr>\n",
              "  </tbody>\n",
              "</table>\n",
              "</div>"
            ],
            "text/plain": [
              "   Serial No.  GRE Score  TOEFL Score  ...  CGPA  Research  Chance of Admit \n",
              "0           1        337          118  ...  9.65         1              0.92\n",
              "1           2        324          107  ...  8.87         1              0.76\n",
              "2           3        316          104  ...  8.00         1              0.72\n",
              "3           4        322          110  ...  8.67         1              0.80\n",
              "4           5        314          103  ...  8.21         0              0.65\n",
              "\n",
              "[5 rows x 9 columns]"
            ]
          },
          "metadata": {
            "tags": []
          },
          "execution_count": 3
        }
      ]
    },
    {
      "cell_type": "code",
      "metadata": {
        "colab": {
          "base_uri": "https://localhost:8080/",
          "height": 297
        },
        "id": "GPB7-pVU8aLB",
        "outputId": "23ca3c44-c22c-44db-9517-3c5e6dd60724"
      },
      "source": [
        "admissions_df.describe()"
      ],
      "execution_count": 4,
      "outputs": [
        {
          "output_type": "execute_result",
          "data": {
            "text/html": [
              "<div>\n",
              "<style scoped>\n",
              "    .dataframe tbody tr th:only-of-type {\n",
              "        vertical-align: middle;\n",
              "    }\n",
              "\n",
              "    .dataframe tbody tr th {\n",
              "        vertical-align: top;\n",
              "    }\n",
              "\n",
              "    .dataframe thead th {\n",
              "        text-align: right;\n",
              "    }\n",
              "</style>\n",
              "<table border=\"1\" class=\"dataframe\">\n",
              "  <thead>\n",
              "    <tr style=\"text-align: right;\">\n",
              "      <th></th>\n",
              "      <th>Serial No.</th>\n",
              "      <th>GRE Score</th>\n",
              "      <th>TOEFL Score</th>\n",
              "      <th>University Rating</th>\n",
              "      <th>SOP</th>\n",
              "      <th>LOR</th>\n",
              "      <th>CGPA</th>\n",
              "      <th>Research</th>\n",
              "      <th>Chance of Admit</th>\n",
              "    </tr>\n",
              "  </thead>\n",
              "  <tbody>\n",
              "    <tr>\n",
              "      <th>count</th>\n",
              "      <td>500.000000</td>\n",
              "      <td>500.000000</td>\n",
              "      <td>500.000000</td>\n",
              "      <td>500.000000</td>\n",
              "      <td>500.000000</td>\n",
              "      <td>500.00000</td>\n",
              "      <td>500.000000</td>\n",
              "      <td>500.000000</td>\n",
              "      <td>500.00000</td>\n",
              "    </tr>\n",
              "    <tr>\n",
              "      <th>mean</th>\n",
              "      <td>250.500000</td>\n",
              "      <td>316.472000</td>\n",
              "      <td>107.192000</td>\n",
              "      <td>3.114000</td>\n",
              "      <td>3.374000</td>\n",
              "      <td>3.48400</td>\n",
              "      <td>8.576440</td>\n",
              "      <td>0.560000</td>\n",
              "      <td>0.72174</td>\n",
              "    </tr>\n",
              "    <tr>\n",
              "      <th>std</th>\n",
              "      <td>144.481833</td>\n",
              "      <td>11.295148</td>\n",
              "      <td>6.081868</td>\n",
              "      <td>1.143512</td>\n",
              "      <td>0.991004</td>\n",
              "      <td>0.92545</td>\n",
              "      <td>0.604813</td>\n",
              "      <td>0.496884</td>\n",
              "      <td>0.14114</td>\n",
              "    </tr>\n",
              "    <tr>\n",
              "      <th>min</th>\n",
              "      <td>1.000000</td>\n",
              "      <td>290.000000</td>\n",
              "      <td>92.000000</td>\n",
              "      <td>1.000000</td>\n",
              "      <td>1.000000</td>\n",
              "      <td>1.00000</td>\n",
              "      <td>6.800000</td>\n",
              "      <td>0.000000</td>\n",
              "      <td>0.34000</td>\n",
              "    </tr>\n",
              "    <tr>\n",
              "      <th>25%</th>\n",
              "      <td>125.750000</td>\n",
              "      <td>308.000000</td>\n",
              "      <td>103.000000</td>\n",
              "      <td>2.000000</td>\n",
              "      <td>2.500000</td>\n",
              "      <td>3.00000</td>\n",
              "      <td>8.127500</td>\n",
              "      <td>0.000000</td>\n",
              "      <td>0.63000</td>\n",
              "    </tr>\n",
              "    <tr>\n",
              "      <th>50%</th>\n",
              "      <td>250.500000</td>\n",
              "      <td>317.000000</td>\n",
              "      <td>107.000000</td>\n",
              "      <td>3.000000</td>\n",
              "      <td>3.500000</td>\n",
              "      <td>3.50000</td>\n",
              "      <td>8.560000</td>\n",
              "      <td>1.000000</td>\n",
              "      <td>0.72000</td>\n",
              "    </tr>\n",
              "    <tr>\n",
              "      <th>75%</th>\n",
              "      <td>375.250000</td>\n",
              "      <td>325.000000</td>\n",
              "      <td>112.000000</td>\n",
              "      <td>4.000000</td>\n",
              "      <td>4.000000</td>\n",
              "      <td>4.00000</td>\n",
              "      <td>9.040000</td>\n",
              "      <td>1.000000</td>\n",
              "      <td>0.82000</td>\n",
              "    </tr>\n",
              "    <tr>\n",
              "      <th>max</th>\n",
              "      <td>500.000000</td>\n",
              "      <td>340.000000</td>\n",
              "      <td>120.000000</td>\n",
              "      <td>5.000000</td>\n",
              "      <td>5.000000</td>\n",
              "      <td>5.00000</td>\n",
              "      <td>9.920000</td>\n",
              "      <td>1.000000</td>\n",
              "      <td>0.97000</td>\n",
              "    </tr>\n",
              "  </tbody>\n",
              "</table>\n",
              "</div>"
            ],
            "text/plain": [
              "       Serial No.   GRE Score  ...    Research  Chance of Admit \n",
              "count  500.000000  500.000000  ...  500.000000         500.00000\n",
              "mean   250.500000  316.472000  ...    0.560000           0.72174\n",
              "std    144.481833   11.295148  ...    0.496884           0.14114\n",
              "min      1.000000  290.000000  ...    0.000000           0.34000\n",
              "25%    125.750000  308.000000  ...    0.000000           0.63000\n",
              "50%    250.500000  317.000000  ...    1.000000           0.72000\n",
              "75%    375.250000  325.000000  ...    1.000000           0.82000\n",
              "max    500.000000  340.000000  ...    1.000000           0.97000\n",
              "\n",
              "[8 rows x 9 columns]"
            ]
          },
          "metadata": {
            "tags": []
          },
          "execution_count": 4
        }
      ]
    },
    {
      "cell_type": "markdown",
      "metadata": {
        "id": "XfeVLYr68OiS"
      },
      "source": [
        "The above shows the various parameters the admission officers use to evaluate university applicants. There is information on 500 applicants from various universities. \n",
        "\n",
        "All columns are numerical so won't requires any one-hot encoding. \n",
        "\n",
        "My features for the model will include all columns except `Serial No.` and `Chance of Admit`. `Chance of Admit` will be my labels for the model. "
      ]
    },
    {
      "cell_type": "code",
      "metadata": {
        "colab": {
          "base_uri": "https://localhost:8080/"
        },
        "id": "JqGubnY5aJRy",
        "outputId": "6dab9fae-3a14-40a0-e7b9-aa6dd8b02db7"
      },
      "source": [
        "admissions_df.isna().sum()"
      ],
      "execution_count": 5,
      "outputs": [
        {
          "output_type": "execute_result",
          "data": {
            "text/plain": [
              "Serial No.           0\n",
              "GRE Score            0\n",
              "TOEFL Score          0\n",
              "University Rating    0\n",
              "SOP                  0\n",
              "LOR                  0\n",
              "CGPA                 0\n",
              "Research             0\n",
              "Chance of Admit      0\n",
              "dtype: int64"
            ]
          },
          "metadata": {
            "tags": []
          },
          "execution_count": 5
        }
      ]
    },
    {
      "cell_type": "code",
      "metadata": {
        "id": "kNJey5CU8E2q"
      },
      "source": [
        "features = admissions_df.iloc[:, 1:-1]"
      ],
      "execution_count": 6,
      "outputs": []
    },
    {
      "cell_type": "code",
      "metadata": {
        "colab": {
          "base_uri": "https://localhost:8080/",
          "height": 204
        },
        "id": "32WTzv2O94HH",
        "outputId": "030a2ad9-e4d6-418a-facd-efa3bd45ab5b"
      },
      "source": [
        "features.head()"
      ],
      "execution_count": 7,
      "outputs": [
        {
          "output_type": "execute_result",
          "data": {
            "text/html": [
              "<div>\n",
              "<style scoped>\n",
              "    .dataframe tbody tr th:only-of-type {\n",
              "        vertical-align: middle;\n",
              "    }\n",
              "\n",
              "    .dataframe tbody tr th {\n",
              "        vertical-align: top;\n",
              "    }\n",
              "\n",
              "    .dataframe thead th {\n",
              "        text-align: right;\n",
              "    }\n",
              "</style>\n",
              "<table border=\"1\" class=\"dataframe\">\n",
              "  <thead>\n",
              "    <tr style=\"text-align: right;\">\n",
              "      <th></th>\n",
              "      <th>GRE Score</th>\n",
              "      <th>TOEFL Score</th>\n",
              "      <th>University Rating</th>\n",
              "      <th>SOP</th>\n",
              "      <th>LOR</th>\n",
              "      <th>CGPA</th>\n",
              "      <th>Research</th>\n",
              "    </tr>\n",
              "  </thead>\n",
              "  <tbody>\n",
              "    <tr>\n",
              "      <th>0</th>\n",
              "      <td>337</td>\n",
              "      <td>118</td>\n",
              "      <td>4</td>\n",
              "      <td>4.5</td>\n",
              "      <td>4.5</td>\n",
              "      <td>9.65</td>\n",
              "      <td>1</td>\n",
              "    </tr>\n",
              "    <tr>\n",
              "      <th>1</th>\n",
              "      <td>324</td>\n",
              "      <td>107</td>\n",
              "      <td>4</td>\n",
              "      <td>4.0</td>\n",
              "      <td>4.5</td>\n",
              "      <td>8.87</td>\n",
              "      <td>1</td>\n",
              "    </tr>\n",
              "    <tr>\n",
              "      <th>2</th>\n",
              "      <td>316</td>\n",
              "      <td>104</td>\n",
              "      <td>3</td>\n",
              "      <td>3.0</td>\n",
              "      <td>3.5</td>\n",
              "      <td>8.00</td>\n",
              "      <td>1</td>\n",
              "    </tr>\n",
              "    <tr>\n",
              "      <th>3</th>\n",
              "      <td>322</td>\n",
              "      <td>110</td>\n",
              "      <td>3</td>\n",
              "      <td>3.5</td>\n",
              "      <td>2.5</td>\n",
              "      <td>8.67</td>\n",
              "      <td>1</td>\n",
              "    </tr>\n",
              "    <tr>\n",
              "      <th>4</th>\n",
              "      <td>314</td>\n",
              "      <td>103</td>\n",
              "      <td>2</td>\n",
              "      <td>2.0</td>\n",
              "      <td>3.0</td>\n",
              "      <td>8.21</td>\n",
              "      <td>0</td>\n",
              "    </tr>\n",
              "  </tbody>\n",
              "</table>\n",
              "</div>"
            ],
            "text/plain": [
              "   GRE Score  TOEFL Score  University Rating  SOP  LOR   CGPA  Research\n",
              "0        337          118                  4  4.5   4.5  9.65         1\n",
              "1        324          107                  4  4.0   4.5  8.87         1\n",
              "2        316          104                  3  3.0   3.5  8.00         1\n",
              "3        322          110                  3  3.5   2.5  8.67         1\n",
              "4        314          103                  2  2.0   3.0  8.21         0"
            ]
          },
          "metadata": {
            "tags": []
          },
          "execution_count": 7
        }
      ]
    },
    {
      "cell_type": "code",
      "metadata": {
        "id": "O_or7N_Z-KAt"
      },
      "source": [
        "labels = admissions_df.iloc[:, -1]"
      ],
      "execution_count": 8,
      "outputs": []
    },
    {
      "cell_type": "code",
      "metadata": {
        "colab": {
          "base_uri": "https://localhost:8080/"
        },
        "id": "UNIED3vu_BlI",
        "outputId": "22d17b1d-9152-480c-e583-26cdc9494ff5"
      },
      "source": [
        "labels.head()"
      ],
      "execution_count": 9,
      "outputs": [
        {
          "output_type": "execute_result",
          "data": {
            "text/plain": [
              "0    0.92\n",
              "1    0.76\n",
              "2    0.72\n",
              "3    0.80\n",
              "4    0.65\n",
              "Name: Chance of Admit , dtype: float64"
            ]
          },
          "metadata": {
            "tags": []
          },
          "execution_count": 9
        }
      ]
    },
    {
      "cell_type": "markdown",
      "metadata": {
        "id": "5021DzK1_L7Z"
      },
      "source": [
        "## Data Processing"
      ]
    },
    {
      "cell_type": "code",
      "metadata": {
        "id": "hmbUSC1__P-y"
      },
      "source": [
        "from sklearn.model_selection import train_test_split\n",
        "\n",
        "features_train, features_test, labels_train, labels_test = train_test_split(features, labels, test_size = 0.33, random_state = 42)"
      ],
      "execution_count": 10,
      "outputs": []
    },
    {
      "cell_type": "code",
      "metadata": {
        "id": "IF2Si-MS_ufE"
      },
      "source": [
        "from sklearn.preprocessing import StandardScaler\n",
        "from sklearn.compose import ColumnTransformer \n",
        "\n",
        "numerical_features = features.select_dtypes(include=['float64', 'int64'])\n",
        "numerical_columns = numerical_features.columns\n",
        "\n",
        "ct = ColumnTransformer([(\"only numeric\", StandardScaler(), numerical_columns)], remainder='passthrough')"
      ],
      "execution_count": 11,
      "outputs": []
    },
    {
      "cell_type": "code",
      "metadata": {
        "id": "JlByy9QkCmjB"
      },
      "source": [
        "features_train_scaled = ct.fit_transform(features_train)\n",
        "features_test_scaled = ct.transform(features_test)"
      ],
      "execution_count": 12,
      "outputs": []
    },
    {
      "cell_type": "code",
      "metadata": {
        "id": "fYPZS2ixDFqI"
      },
      "source": [
        "features_train_scaled = pd.DataFrame(features_train_scaled, columns = features_train.columns)\n",
        "features_test_scaled = pd.DataFrame(features_test_scaled, columns = features_test.columns)"
      ],
      "execution_count": 13,
      "outputs": []
    },
    {
      "cell_type": "code",
      "metadata": {
        "colab": {
          "base_uri": "https://localhost:8080/",
          "height": 204
        },
        "id": "zx2QJD9jDl02",
        "outputId": "be24f785-fb9c-477c-e943-5bc35b2a9bd7"
      },
      "source": [
        "features_test_scaled.head()"
      ],
      "execution_count": 14,
      "outputs": [
        {
          "output_type": "execute_result",
          "data": {
            "text/html": [
              "<div>\n",
              "<style scoped>\n",
              "    .dataframe tbody tr th:only-of-type {\n",
              "        vertical-align: middle;\n",
              "    }\n",
              "\n",
              "    .dataframe tbody tr th {\n",
              "        vertical-align: top;\n",
              "    }\n",
              "\n",
              "    .dataframe thead th {\n",
              "        text-align: right;\n",
              "    }\n",
              "</style>\n",
              "<table border=\"1\" class=\"dataframe\">\n",
              "  <thead>\n",
              "    <tr style=\"text-align: right;\">\n",
              "      <th></th>\n",
              "      <th>GRE Score</th>\n",
              "      <th>TOEFL Score</th>\n",
              "      <th>University Rating</th>\n",
              "      <th>SOP</th>\n",
              "      <th>LOR</th>\n",
              "      <th>CGPA</th>\n",
              "      <th>Research</th>\n",
              "    </tr>\n",
              "  </thead>\n",
              "  <tbody>\n",
              "    <tr>\n",
              "      <th>0</th>\n",
              "      <td>1.570357</td>\n",
              "      <td>1.423757</td>\n",
              "      <td>0.784816</td>\n",
              "      <td>0.621518</td>\n",
              "      <td>-0.001613</td>\n",
              "      <td>1.612511</td>\n",
              "      <td>0.873589</td>\n",
              "    </tr>\n",
              "    <tr>\n",
              "      <th>1</th>\n",
              "      <td>-0.251845</td>\n",
              "      <td>0.112531</td>\n",
              "      <td>0.784816</td>\n",
              "      <td>1.123225</td>\n",
              "      <td>0.538819</td>\n",
              "      <td>0.768277</td>\n",
              "      <td>0.873589</td>\n",
              "    </tr>\n",
              "    <tr>\n",
              "      <th>2</th>\n",
              "      <td>-0.160734</td>\n",
              "      <td>-0.379179</td>\n",
              "      <td>-0.950586</td>\n",
              "      <td>-1.385311</td>\n",
              "      <td>-1.082478</td>\n",
              "      <td>-1.578691</td>\n",
              "      <td>-1.144703</td>\n",
              "    </tr>\n",
              "    <tr>\n",
              "      <th>3</th>\n",
              "      <td>-0.434065</td>\n",
              "      <td>0.276434</td>\n",
              "      <td>-0.082885</td>\n",
              "      <td>-0.381897</td>\n",
              "      <td>-0.542045</td>\n",
              "      <td>0.177314</td>\n",
              "      <td>-1.144703</td>\n",
              "    </tr>\n",
              "    <tr>\n",
              "      <th>4</th>\n",
              "      <td>0.841476</td>\n",
              "      <td>0.768144</td>\n",
              "      <td>-0.082885</td>\n",
              "      <td>0.119811</td>\n",
              "      <td>-0.542045</td>\n",
              "      <td>0.785162</td>\n",
              "      <td>0.873589</td>\n",
              "    </tr>\n",
              "  </tbody>\n",
              "</table>\n",
              "</div>"
            ],
            "text/plain": [
              "   GRE Score  TOEFL Score  University Rating  ...      LOR       CGPA  Research\n",
              "0   1.570357     1.423757           0.784816  ... -0.001613  1.612511  0.873589\n",
              "1  -0.251845     0.112531           0.784816  ...  0.538819  0.768277  0.873589\n",
              "2  -0.160734    -0.379179          -0.950586  ... -1.082478 -1.578691 -1.144703\n",
              "3  -0.434065     0.276434          -0.082885  ... -0.542045  0.177314 -1.144703\n",
              "4   0.841476     0.768144          -0.082885  ... -0.542045  0.785162  0.873589\n",
              "\n",
              "[5 rows x 7 columns]"
            ]
          },
          "metadata": {
            "tags": []
          },
          "execution_count": 14
        }
      ]
    },
    {
      "cell_type": "markdown",
      "metadata": {
        "id": "PLwJDgClDw5G"
      },
      "source": [
        "## Building the Model"
      ]
    },
    {
      "cell_type": "code",
      "metadata": {
        "id": "Jhw_nMpEDzFy"
      },
      "source": [
        "from tensorflow.keras.models import Sequential\n",
        "\n",
        "my_model = Sequential()"
      ],
      "execution_count": 15,
      "outputs": []
    },
    {
      "cell_type": "code",
      "metadata": {
        "id": "rj9g8rgSD5ZQ"
      },
      "source": [
        "from tensorflow.keras.layers import InputLayer\n",
        "\n",
        "#creating the input layer with the shape corresponding to the number of features\n",
        "input = InputLayer(input_shape=(features.shape[1],))\n",
        "my_model.add(input)"
      ],
      "execution_count": 16,
      "outputs": []
    },
    {
      "cell_type": "code",
      "metadata": {
        "id": "vkUWy1N6Ep6M"
      },
      "source": [
        "from tensorflow.keras.layers import Dense\n",
        "\n",
        "#adding one hidden layer with 128 neurons\n",
        "my_model.add(Dense(128, activation='relu'))"
      ],
      "execution_count": 17,
      "outputs": []
    },
    {
      "cell_type": "code",
      "metadata": {
        "id": "C98DOBNzFN6b"
      },
      "source": [
        "#adding output layer with a single output\n",
        "my_model.add(Dense(1))"
      ],
      "execution_count": 18,
      "outputs": []
    },
    {
      "cell_type": "code",
      "metadata": {
        "colab": {
          "base_uri": "https://localhost:8080/"
        },
        "id": "HKDgnuLIFR2E",
        "outputId": "583cc2ea-d1cc-4124-8a60-ede51c656ffc"
      },
      "source": [
        "my_model.summary()"
      ],
      "execution_count": 19,
      "outputs": [
        {
          "output_type": "stream",
          "text": [
            "Model: \"sequential\"\n",
            "_________________________________________________________________\n",
            "Layer (type)                 Output Shape              Param #   \n",
            "=================================================================\n",
            "dense (Dense)                (None, 128)               1024      \n",
            "_________________________________________________________________\n",
            "dense_1 (Dense)              (None, 1)                 129       \n",
            "=================================================================\n",
            "Total params: 1,153\n",
            "Trainable params: 1,153\n",
            "Non-trainable params: 0\n",
            "_________________________________________________________________\n"
          ],
          "name": "stdout"
        }
      ]
    },
    {
      "cell_type": "markdown",
      "metadata": {
        "id": "zvV_xKLeFfkH"
      },
      "source": [
        "## Initializing the Optimizer & Compiling the Model"
      ]
    },
    {
      "cell_type": "code",
      "metadata": {
        "id": "TWOKHOq3FWim"
      },
      "source": [
        "from tensorflow.keras.optimizers import Adam\n",
        "\n",
        "opt = Adam(learning_rate=0.01)\n",
        "\n",
        "my_model.compile(loss = 'mse', metrics = 'mae', optimizer=opt)"
      ],
      "execution_count": 20,
      "outputs": []
    },
    {
      "cell_type": "markdown",
      "metadata": {
        "id": "4RwSAEQIFzrH"
      },
      "source": [
        "## Fit & Evaluate Model"
      ]
    },
    {
      "cell_type": "code",
      "metadata": {
        "colab": {
          "base_uri": "https://localhost:8080/"
        },
        "id": "XOU1M80CFrWp",
        "outputId": "80ae1d13-6eb4-462d-f1f1-13820b1d9df8"
      },
      "source": [
        "from tensorflow.keras.callbacks import EarlyStopping\n",
        "\n",
        "stop = EarlyStopping(monitor='val_loss', mode='min', verbose=1, patience=40) \n",
        "\n",
        "history = my_model.fit(features_train_scaled, labels_train, epochs=40, batch_size=4, verbose=1, validation_split=0.2, callbacks=[stop])\n"
      ],
      "execution_count": 21,
      "outputs": [
        {
          "output_type": "stream",
          "text": [
            "Epoch 1/40\n",
            "67/67 [==============================] - 1s 10ms/step - loss: 0.0985 - mae: 0.2378 - val_loss: 0.0216 - val_mae: 0.1255\n",
            "Epoch 2/40\n",
            "67/67 [==============================] - 0s 3ms/step - loss: 0.0176 - mae: 0.0998 - val_loss: 0.0121 - val_mae: 0.0903\n",
            "Epoch 3/40\n",
            "67/67 [==============================] - 0s 3ms/step - loss: 0.0121 - mae: 0.0914 - val_loss: 0.0168 - val_mae: 0.1039\n",
            "Epoch 4/40\n",
            "67/67 [==============================] - 0s 3ms/step - loss: 0.0131 - mae: 0.0852 - val_loss: 0.0085 - val_mae: 0.0755\n",
            "Epoch 5/40\n",
            "67/67 [==============================] - 0s 2ms/step - loss: 0.0102 - mae: 0.0782 - val_loss: 0.0047 - val_mae: 0.0558\n",
            "Epoch 6/40\n",
            "67/67 [==============================] - 0s 2ms/step - loss: 0.0049 - mae: 0.0571 - val_loss: 0.0053 - val_mae: 0.0591\n",
            "Epoch 7/40\n",
            "67/67 [==============================] - 0s 2ms/step - loss: 0.0041 - mae: 0.0508 - val_loss: 0.0123 - val_mae: 0.0765\n",
            "Epoch 8/40\n",
            "67/67 [==============================] - 0s 2ms/step - loss: 0.0074 - mae: 0.0677 - val_loss: 0.0033 - val_mae: 0.0412\n",
            "Epoch 9/40\n",
            "67/67 [==============================] - 0s 2ms/step - loss: 0.0048 - mae: 0.0544 - val_loss: 0.0041 - val_mae: 0.0457\n",
            "Epoch 10/40\n",
            "67/67 [==============================] - 0s 2ms/step - loss: 0.0056 - mae: 0.0579 - val_loss: 0.0031 - val_mae: 0.0431\n",
            "Epoch 11/40\n",
            "67/67 [==============================] - 0s 2ms/step - loss: 0.0042 - mae: 0.0500 - val_loss: 0.0036 - val_mae: 0.0477\n",
            "Epoch 12/40\n",
            "67/67 [==============================] - 0s 2ms/step - loss: 0.0044 - mae: 0.0504 - val_loss: 0.0047 - val_mae: 0.0510\n",
            "Epoch 13/40\n",
            "67/67 [==============================] - 0s 2ms/step - loss: 0.0068 - mae: 0.0663 - val_loss: 0.0054 - val_mae: 0.0547\n",
            "Epoch 14/40\n",
            "67/67 [==============================] - 0s 2ms/step - loss: 0.0043 - mae: 0.0515 - val_loss: 0.0060 - val_mae: 0.0642\n",
            "Epoch 15/40\n",
            "67/67 [==============================] - 0s 2ms/step - loss: 0.0053 - mae: 0.0584 - val_loss: 0.0112 - val_mae: 0.0881\n",
            "Epoch 16/40\n",
            "67/67 [==============================] - 0s 2ms/step - loss: 0.0084 - mae: 0.0728 - val_loss: 0.0036 - val_mae: 0.0445\n",
            "Epoch 17/40\n",
            "67/67 [==============================] - 0s 3ms/step - loss: 0.0052 - mae: 0.0542 - val_loss: 0.0187 - val_mae: 0.1140\n",
            "Epoch 18/40\n",
            "67/67 [==============================] - 0s 2ms/step - loss: 0.0101 - mae: 0.0797 - val_loss: 0.0039 - val_mae: 0.0472\n",
            "Epoch 19/40\n",
            "67/67 [==============================] - 0s 2ms/step - loss: 0.0045 - mae: 0.0526 - val_loss: 0.0051 - val_mae: 0.0528\n",
            "Epoch 20/40\n",
            "67/67 [==============================] - 0s 2ms/step - loss: 0.0046 - mae: 0.0522 - val_loss: 0.0047 - val_mae: 0.0521\n",
            "Epoch 21/40\n",
            "67/67 [==============================] - 0s 2ms/step - loss: 0.0041 - mae: 0.0500 - val_loss: 0.0058 - val_mae: 0.0617\n",
            "Epoch 22/40\n",
            "67/67 [==============================] - 0s 2ms/step - loss: 0.0037 - mae: 0.0463 - val_loss: 0.0050 - val_mae: 0.0519\n",
            "Epoch 23/40\n",
            "67/67 [==============================] - 0s 2ms/step - loss: 0.0038 - mae: 0.0499 - val_loss: 0.0060 - val_mae: 0.0649\n",
            "Epoch 24/40\n",
            "67/67 [==============================] - 0s 2ms/step - loss: 0.0041 - mae: 0.0496 - val_loss: 0.0038 - val_mae: 0.0446\n",
            "Epoch 25/40\n",
            "67/67 [==============================] - 0s 2ms/step - loss: 0.0033 - mae: 0.0438 - val_loss: 0.0047 - val_mae: 0.0478\n",
            "Epoch 26/40\n",
            "67/67 [==============================] - 0s 2ms/step - loss: 0.0043 - mae: 0.0503 - val_loss: 0.0032 - val_mae: 0.0416\n",
            "Epoch 27/40\n",
            "67/67 [==============================] - 0s 2ms/step - loss: 0.0033 - mae: 0.0437 - val_loss: 0.0043 - val_mae: 0.0485\n",
            "Epoch 28/40\n",
            "67/67 [==============================] - 0s 2ms/step - loss: 0.0031 - mae: 0.0407 - val_loss: 0.0038 - val_mae: 0.0464\n",
            "Epoch 29/40\n",
            "67/67 [==============================] - 0s 2ms/step - loss: 0.0037 - mae: 0.0476 - val_loss: 0.0040 - val_mae: 0.0503\n",
            "Epoch 30/40\n",
            "67/67 [==============================] - 0s 2ms/step - loss: 0.0038 - mae: 0.0473 - val_loss: 0.0030 - val_mae: 0.0404\n",
            "Epoch 31/40\n",
            "67/67 [==============================] - 0s 2ms/step - loss: 0.0043 - mae: 0.0510 - val_loss: 0.0037 - val_mae: 0.0424\n",
            "Epoch 32/40\n",
            "67/67 [==============================] - 0s 2ms/step - loss: 0.0043 - mae: 0.0484 - val_loss: 0.0048 - val_mae: 0.0568\n",
            "Epoch 33/40\n",
            "67/67 [==============================] - 0s 2ms/step - loss: 0.0036 - mae: 0.0450 - val_loss: 0.0033 - val_mae: 0.0425\n",
            "Epoch 34/40\n",
            "67/67 [==============================] - 0s 3ms/step - loss: 0.0031 - mae: 0.0418 - val_loss: 0.0046 - val_mae: 0.0495\n",
            "Epoch 35/40\n",
            "67/67 [==============================] - 0s 3ms/step - loss: 0.0049 - mae: 0.0546 - val_loss: 0.0046 - val_mae: 0.0510\n",
            "Epoch 36/40\n",
            "67/67 [==============================] - 0s 3ms/step - loss: 0.0046 - mae: 0.0515 - val_loss: 0.0055 - val_mae: 0.0638\n",
            "Epoch 37/40\n",
            "67/67 [==============================] - 0s 4ms/step - loss: 0.0041 - mae: 0.0471 - val_loss: 0.0040 - val_mae: 0.0477\n",
            "Epoch 38/40\n",
            "67/67 [==============================] - 0s 3ms/step - loss: 0.0047 - mae: 0.0506 - val_loss: 0.0038 - val_mae: 0.0497\n",
            "Epoch 39/40\n",
            "67/67 [==============================] - 0s 3ms/step - loss: 0.0038 - mae: 0.0466 - val_loss: 0.0043 - val_mae: 0.0465\n",
            "Epoch 40/40\n",
            "67/67 [==============================] - 0s 4ms/step - loss: 0.0035 - mae: 0.0457 - val_loss: 0.0036 - val_mae: 0.0462\n"
          ],
          "name": "stdout"
        }
      ]
    },
    {
      "cell_type": "code",
      "metadata": {
        "id": "QaMEsdepF_pH"
      },
      "source": [
        "res_mse, rse_mae = my_model.evaluate(features_test_scaled, labels_test, verbose=0)"
      ],
      "execution_count": 22,
      "outputs": []
    },
    {
      "cell_type": "code",
      "metadata": {
        "colab": {
          "base_uri": "https://localhost:8080/"
        },
        "id": "ZGhVMgaZGDY8",
        "outputId": "0e263ed0-354e-4a16-85cf-bd386608e271"
      },
      "source": [
        "print(\"MSE \", res_mse)\n",
        "print(\"MAE \", rse_mae)"
      ],
      "execution_count": 23,
      "outputs": [
        {
          "output_type": "stream",
          "text": [
            "MSE  0.004572281613945961\n",
            "MAE  0.049801815301179886\n"
          ],
          "name": "stdout"
        }
      ]
    },
    {
      "cell_type": "markdown",
      "metadata": {
        "id": "mdpp0xwRxMw6"
      },
      "source": [
        "Visualise the model's training progress using the stats stored in the history object"
      ]
    },
    {
      "cell_type": "code",
      "metadata": {
        "colab": {
          "base_uri": "https://localhost:8080/",
          "height": 204
        },
        "id": "6_5X906vxDxG",
        "outputId": "62d85f0a-c8da-4d2a-f291-b9919e4e6638"
      },
      "source": [
        "hist = pd.DataFrame(history.history)\n",
        "hist['EPOCH'] = history.epoch\n",
        "hist.tail()"
      ],
      "execution_count": 26,
      "outputs": [
        {
          "output_type": "execute_result",
          "data": {
            "text/html": [
              "<div>\n",
              "<style scoped>\n",
              "    .dataframe tbody tr th:only-of-type {\n",
              "        vertical-align: middle;\n",
              "    }\n",
              "\n",
              "    .dataframe tbody tr th {\n",
              "        vertical-align: top;\n",
              "    }\n",
              "\n",
              "    .dataframe thead th {\n",
              "        text-align: right;\n",
              "    }\n",
              "</style>\n",
              "<table border=\"1\" class=\"dataframe\">\n",
              "  <thead>\n",
              "    <tr style=\"text-align: right;\">\n",
              "      <th></th>\n",
              "      <th>loss</th>\n",
              "      <th>mae</th>\n",
              "      <th>val_loss</th>\n",
              "      <th>val_mae</th>\n",
              "      <th>EPOCH</th>\n",
              "    </tr>\n",
              "  </thead>\n",
              "  <tbody>\n",
              "    <tr>\n",
              "      <th>35</th>\n",
              "      <td>0.004517</td>\n",
              "      <td>0.051951</td>\n",
              "      <td>0.005470</td>\n",
              "      <td>0.063838</td>\n",
              "      <td>35</td>\n",
              "    </tr>\n",
              "    <tr>\n",
              "      <th>36</th>\n",
              "      <td>0.003872</td>\n",
              "      <td>0.046571</td>\n",
              "      <td>0.003963</td>\n",
              "      <td>0.047711</td>\n",
              "      <td>36</td>\n",
              "    </tr>\n",
              "    <tr>\n",
              "      <th>37</th>\n",
              "      <td>0.004051</td>\n",
              "      <td>0.046263</td>\n",
              "      <td>0.003812</td>\n",
              "      <td>0.049658</td>\n",
              "      <td>37</td>\n",
              "    </tr>\n",
              "    <tr>\n",
              "      <th>38</th>\n",
              "      <td>0.004565</td>\n",
              "      <td>0.051057</td>\n",
              "      <td>0.004280</td>\n",
              "      <td>0.046507</td>\n",
              "      <td>38</td>\n",
              "    </tr>\n",
              "    <tr>\n",
              "      <th>39</th>\n",
              "      <td>0.003659</td>\n",
              "      <td>0.045621</td>\n",
              "      <td>0.003617</td>\n",
              "      <td>0.046171</td>\n",
              "      <td>39</td>\n",
              "    </tr>\n",
              "  </tbody>\n",
              "</table>\n",
              "</div>"
            ],
            "text/plain": [
              "        loss       mae  val_loss   val_mae  EPOCH\n",
              "35  0.004517  0.051951  0.005470  0.063838     35\n",
              "36  0.003872  0.046571  0.003963  0.047711     36\n",
              "37  0.004051  0.046263  0.003812  0.049658     37\n",
              "38  0.004565  0.051057  0.004280  0.046507     38\n",
              "39  0.003659  0.045621  0.003617  0.046171     39"
            ]
          },
          "metadata": {
            "tags": []
          },
          "execution_count": 26
        }
      ]
    },
    {
      "cell_type": "markdown",
      "metadata": {
        "id": "f5GRgMqSLfu1"
      },
      "source": [
        "The results show a very good performance of the model. It shows the model has a MAE of around 0.05 which equates to being around 5% off when predicting the students chance of admission. \n",
        "\n",
        "I will tune the model to understand the effects of tuning the hyperparameters. "
      ]
    },
    {
      "cell_type": "markdown",
      "metadata": {
        "id": "_lSO1HTmLdTQ"
      },
      "source": [
        "## Tuning Model"
      ]
    },
    {
      "cell_type": "code",
      "metadata": {
        "colab": {
          "base_uri": "https://localhost:8080/"
        },
        "id": "eZEIMh_XLo_c",
        "outputId": "9c907248-2923-4bfc-c64d-11365694f787"
      },
      "source": [
        "##Changing batch size from 1 to 4\n",
        "history = my_model.fit(features_train_scaled, labels_train, epochs=40, batch_size=4, verbose=1, validation_split=0.2, callbacks=[stop])"
      ],
      "execution_count": 27,
      "outputs": [
        {
          "output_type": "stream",
          "text": [
            "Epoch 1/40\n",
            "67/67 [==============================] - 0s 4ms/step - loss: 0.0037 - mae: 0.0448 - val_loss: 0.0030 - val_mae: 0.0395\n",
            "Epoch 2/40\n",
            "67/67 [==============================] - 0s 2ms/step - loss: 0.0033 - mae: 0.0424 - val_loss: 0.0038 - val_mae: 0.0435\n",
            "Epoch 3/40\n",
            "67/67 [==============================] - 0s 3ms/step - loss: 0.0040 - mae: 0.0474 - val_loss: 0.0041 - val_mae: 0.0490\n",
            "Epoch 4/40\n",
            "67/67 [==============================] - 0s 3ms/step - loss: 0.0037 - mae: 0.0457 - val_loss: 0.0057 - val_mae: 0.0539\n",
            "Epoch 5/40\n",
            "67/67 [==============================] - 0s 2ms/step - loss: 0.0048 - mae: 0.0527 - val_loss: 0.0037 - val_mae: 0.0436\n",
            "Epoch 6/40\n",
            "67/67 [==============================] - 0s 3ms/step - loss: 0.0045 - mae: 0.0524 - val_loss: 0.0042 - val_mae: 0.0476\n",
            "Epoch 7/40\n",
            "67/67 [==============================] - 0s 2ms/step - loss: 0.0035 - mae: 0.0439 - val_loss: 0.0039 - val_mae: 0.0443\n",
            "Epoch 8/40\n",
            "67/67 [==============================] - 0s 2ms/step - loss: 0.0037 - mae: 0.0440 - val_loss: 0.0035 - val_mae: 0.0482\n",
            "Epoch 9/40\n",
            "67/67 [==============================] - 0s 3ms/step - loss: 0.0038 - mae: 0.0453 - val_loss: 0.0040 - val_mae: 0.0484\n",
            "Epoch 10/40\n",
            "67/67 [==============================] - 0s 3ms/step - loss: 0.0049 - mae: 0.0535 - val_loss: 0.0038 - val_mae: 0.0454\n",
            "Epoch 11/40\n",
            "67/67 [==============================] - 0s 3ms/step - loss: 0.0042 - mae: 0.0490 - val_loss: 0.0039 - val_mae: 0.0432\n",
            "Epoch 12/40\n",
            "67/67 [==============================] - 0s 3ms/step - loss: 0.0037 - mae: 0.0453 - val_loss: 0.0032 - val_mae: 0.0416\n",
            "Epoch 13/40\n",
            "67/67 [==============================] - 0s 3ms/step - loss: 0.0033 - mae: 0.0424 - val_loss: 0.0053 - val_mae: 0.0590\n",
            "Epoch 14/40\n",
            "67/67 [==============================] - 0s 3ms/step - loss: 0.0038 - mae: 0.0464 - val_loss: 0.0047 - val_mae: 0.0531\n",
            "Epoch 15/40\n",
            "67/67 [==============================] - 0s 2ms/step - loss: 0.0039 - mae: 0.0477 - val_loss: 0.0034 - val_mae: 0.0411\n",
            "Epoch 16/40\n",
            "67/67 [==============================] - 0s 2ms/step - loss: 0.0038 - mae: 0.0457 - val_loss: 0.0053 - val_mae: 0.0535\n",
            "Epoch 17/40\n",
            "67/67 [==============================] - 0s 3ms/step - loss: 0.0041 - mae: 0.0474 - val_loss: 0.0036 - val_mae: 0.0462\n",
            "Epoch 18/40\n",
            "67/67 [==============================] - 0s 3ms/step - loss: 0.0038 - mae: 0.0460 - val_loss: 0.0034 - val_mae: 0.0467\n",
            "Epoch 19/40\n",
            "67/67 [==============================] - 0s 2ms/step - loss: 0.0037 - mae: 0.0459 - val_loss: 0.0048 - val_mae: 0.0521\n",
            "Epoch 20/40\n",
            "67/67 [==============================] - 0s 2ms/step - loss: 0.0036 - mae: 0.0452 - val_loss: 0.0066 - val_mae: 0.0572\n",
            "Epoch 21/40\n",
            "67/67 [==============================] - 0s 3ms/step - loss: 0.0033 - mae: 0.0433 - val_loss: 0.0055 - val_mae: 0.0521\n",
            "Epoch 22/40\n",
            "67/67 [==============================] - 0s 3ms/step - loss: 0.0041 - mae: 0.0487 - val_loss: 0.0041 - val_mae: 0.0462\n",
            "Epoch 23/40\n",
            "67/67 [==============================] - 0s 3ms/step - loss: 0.0033 - mae: 0.0427 - val_loss: 0.0046 - val_mae: 0.0496\n",
            "Epoch 24/40\n",
            "67/67 [==============================] - 0s 3ms/step - loss: 0.0038 - mae: 0.0470 - val_loss: 0.0045 - val_mae: 0.0494\n",
            "Epoch 25/40\n",
            "67/67 [==============================] - 0s 3ms/step - loss: 0.0037 - mae: 0.0464 - val_loss: 0.0034 - val_mae: 0.0441\n",
            "Epoch 26/40\n",
            "67/67 [==============================] - 0s 3ms/step - loss: 0.0037 - mae: 0.0446 - val_loss: 0.0041 - val_mae: 0.0476\n",
            "Epoch 27/40\n",
            "67/67 [==============================] - 0s 2ms/step - loss: 0.0040 - mae: 0.0475 - val_loss: 0.0035 - val_mae: 0.0439\n",
            "Epoch 28/40\n",
            "67/67 [==============================] - 0s 2ms/step - loss: 0.0041 - mae: 0.0482 - val_loss: 0.0051 - val_mae: 0.0576\n",
            "Epoch 29/40\n",
            "67/67 [==============================] - 0s 2ms/step - loss: 0.0037 - mae: 0.0456 - val_loss: 0.0040 - val_mae: 0.0475\n",
            "Epoch 30/40\n",
            "67/67 [==============================] - 0s 2ms/step - loss: 0.0042 - mae: 0.0485 - val_loss: 0.0042 - val_mae: 0.0462\n",
            "Epoch 31/40\n",
            "67/67 [==============================] - 0s 2ms/step - loss: 0.0041 - mae: 0.0484 - val_loss: 0.0038 - val_mae: 0.0457\n",
            "Epoch 32/40\n",
            "67/67 [==============================] - 0s 2ms/step - loss: 0.0037 - mae: 0.0454 - val_loss: 0.0048 - val_mae: 0.0561\n",
            "Epoch 33/40\n",
            "67/67 [==============================] - 0s 2ms/step - loss: 0.0040 - mae: 0.0452 - val_loss: 0.0036 - val_mae: 0.0422\n",
            "Epoch 34/40\n",
            "67/67 [==============================] - 0s 2ms/step - loss: 0.0041 - mae: 0.0482 - val_loss: 0.0038 - val_mae: 0.0431\n",
            "Epoch 35/40\n",
            "67/67 [==============================] - 0s 2ms/step - loss: 0.0037 - mae: 0.0462 - val_loss: 0.0034 - val_mae: 0.0447\n",
            "Epoch 36/40\n",
            "67/67 [==============================] - 0s 2ms/step - loss: 0.0040 - mae: 0.0488 - val_loss: 0.0039 - val_mae: 0.0446\n",
            "Epoch 37/40\n",
            "67/67 [==============================] - 0s 2ms/step - loss: 0.0037 - mae: 0.0466 - val_loss: 0.0039 - val_mae: 0.0451\n",
            "Epoch 38/40\n",
            "67/67 [==============================] - 0s 3ms/step - loss: 0.0036 - mae: 0.0455 - val_loss: 0.0040 - val_mae: 0.0485\n",
            "Epoch 39/40\n",
            "67/67 [==============================] - 0s 3ms/step - loss: 0.0034 - mae: 0.0443 - val_loss: 0.0036 - val_mae: 0.0441\n",
            "Epoch 40/40\n",
            "67/67 [==============================] - 0s 2ms/step - loss: 0.0036 - mae: 0.0439 - val_loss: 0.0061 - val_mae: 0.0553\n"
          ],
          "name": "stdout"
        }
      ]
    },
    {
      "cell_type": "code",
      "metadata": {
        "colab": {
          "base_uri": "https://localhost:8080/"
        },
        "id": "l_uyoH2lL8Ha",
        "outputId": "7287cd26-dbac-44e4-d189-1be8147f0465"
      },
      "source": [
        "res_mse, rse_mae = my_model.evaluate(features_test_scaled, labels_test, verbose=0)\n",
        "\n",
        "print(\"MSE \", res_mse)\n",
        "print(\"MAE \", rse_mae)"
      ],
      "execution_count": 28,
      "outputs": [
        {
          "output_type": "stream",
          "text": [
            "MSE  0.005015557166188955\n",
            "MAE  0.05474288761615753\n"
          ],
          "name": "stdout"
        }
      ]
    },
    {
      "cell_type": "markdown",
      "metadata": {
        "id": "SVeQ8kATMD0G"
      },
      "source": [
        "Comparing the results with where the batch size was 1, it can seen there is very little difference in the results. \n",
        "\n",
        "I will add another hiddent layer to the model. "
      ]
    },
    {
      "cell_type": "code",
      "metadata": {
        "colab": {
          "base_uri": "https://localhost:8080/"
        },
        "id": "ikZIYUwDNbJ4",
        "outputId": "717c74cd-0df5-4149-8d25-61b04bbfcbae"
      },
      "source": [
        "##adding another hidden layer to the model.\n",
        "my_model_2 = Sequential()\n",
        "input_2 = InputLayer(input_shape=(features.shape[1],))\n",
        "my_model_2.add(input_2)\n",
        "my_model_2.add(Dense(128, activation='relu'))\n",
        "my_model_2.add(Dense(64, activation='relu'))\n",
        "my_model_2.add(Dense(1))\n",
        "my_model_2.summary()"
      ],
      "execution_count": 29,
      "outputs": [
        {
          "output_type": "stream",
          "text": [
            "Model: \"sequential_1\"\n",
            "_________________________________________________________________\n",
            "Layer (type)                 Output Shape              Param #   \n",
            "=================================================================\n",
            "dense_2 (Dense)              (None, 128)               1024      \n",
            "_________________________________________________________________\n",
            "dense_3 (Dense)              (None, 64)                8256      \n",
            "_________________________________________________________________\n",
            "dense_4 (Dense)              (None, 1)                 65        \n",
            "=================================================================\n",
            "Total params: 9,345\n",
            "Trainable params: 9,345\n",
            "Non-trainable params: 0\n",
            "_________________________________________________________________\n"
          ],
          "name": "stdout"
        }
      ]
    },
    {
      "cell_type": "code",
      "metadata": {
        "id": "ViBtxcKqOgEp"
      },
      "source": [
        "my_model_2.compile(loss = 'mse', metrics = 'mae', optimizer=opt)"
      ],
      "execution_count": 30,
      "outputs": []
    },
    {
      "cell_type": "code",
      "metadata": {
        "colab": {
          "base_uri": "https://localhost:8080/"
        },
        "id": "ENh4-JtPOiBd",
        "outputId": "6ef230a8-6331-4917-811e-06f99d326580"
      },
      "source": [
        "my_model_2.fit(features_train_scaled, labels_train, epochs=40, batch_size=4, verbose=1, validation_split=0.2, callbacks=[stop])"
      ],
      "execution_count": 31,
      "outputs": [
        {
          "output_type": "stream",
          "text": [
            "Epoch 1/40\n",
            "67/67 [==============================] - 1s 6ms/step - loss: 0.7618 - mae: 0.6328 - val_loss: 0.0087 - val_mae: 0.0731\n",
            "Epoch 2/40\n",
            "67/67 [==============================] - 0s 3ms/step - loss: 0.0077 - mae: 0.0718 - val_loss: 0.0061 - val_mae: 0.0657\n",
            "Epoch 3/40\n",
            "67/67 [==============================] - 0s 3ms/step - loss: 0.0053 - mae: 0.0554 - val_loss: 0.0036 - val_mae: 0.0429\n",
            "Epoch 4/40\n",
            "67/67 [==============================] - 0s 3ms/step - loss: 0.0047 - mae: 0.0481 - val_loss: 0.0036 - val_mae: 0.0472\n",
            "Epoch 5/40\n",
            "67/67 [==============================] - 0s 3ms/step - loss: 0.0052 - mae: 0.0536 - val_loss: 0.0031 - val_mae: 0.0403\n",
            "Epoch 6/40\n",
            "67/67 [==============================] - 0s 3ms/step - loss: 0.0048 - mae: 0.0520 - val_loss: 0.0034 - val_mae: 0.0447\n",
            "Epoch 7/40\n",
            "67/67 [==============================] - 0s 3ms/step - loss: 0.0035 - mae: 0.0441 - val_loss: 0.0034 - val_mae: 0.0432\n",
            "Epoch 8/40\n",
            "67/67 [==============================] - 0s 3ms/step - loss: 0.0044 - mae: 0.0493 - val_loss: 0.0030 - val_mae: 0.0388\n",
            "Epoch 9/40\n",
            "67/67 [==============================] - 0s 3ms/step - loss: 0.0036 - mae: 0.0428 - val_loss: 0.0041 - val_mae: 0.0498\n",
            "Epoch 10/40\n",
            "67/67 [==============================] - 0s 3ms/step - loss: 0.0048 - mae: 0.0542 - val_loss: 0.0040 - val_mae: 0.0480\n",
            "Epoch 11/40\n",
            "67/67 [==============================] - 0s 3ms/step - loss: 0.0035 - mae: 0.0449 - val_loss: 0.0034 - val_mae: 0.0453\n",
            "Epoch 12/40\n",
            "67/67 [==============================] - 0s 3ms/step - loss: 0.0045 - mae: 0.0524 - val_loss: 0.0033 - val_mae: 0.0432\n",
            "Epoch 13/40\n",
            "67/67 [==============================] - 0s 3ms/step - loss: 0.0029 - mae: 0.0403 - val_loss: 0.0032 - val_mae: 0.0406\n",
            "Epoch 14/40\n",
            "67/67 [==============================] - 0s 4ms/step - loss: 0.0034 - mae: 0.0427 - val_loss: 0.0030 - val_mae: 0.0380\n",
            "Epoch 15/40\n",
            "67/67 [==============================] - 0s 3ms/step - loss: 0.0032 - mae: 0.0422 - val_loss: 0.0033 - val_mae: 0.0415\n",
            "Epoch 16/40\n",
            "67/67 [==============================] - 0s 2ms/step - loss: 0.0034 - mae: 0.0447 - val_loss: 0.0038 - val_mae: 0.0446\n",
            "Epoch 17/40\n",
            "67/67 [==============================] - 0s 2ms/step - loss: 0.0039 - mae: 0.0461 - val_loss: 0.0028 - val_mae: 0.0359\n",
            "Epoch 18/40\n",
            "67/67 [==============================] - 0s 2ms/step - loss: 0.0031 - mae: 0.0405 - val_loss: 0.0032 - val_mae: 0.0411\n",
            "Epoch 19/40\n",
            "67/67 [==============================] - 0s 2ms/step - loss: 0.0035 - mae: 0.0449 - val_loss: 0.0030 - val_mae: 0.0391\n",
            "Epoch 20/40\n",
            "67/67 [==============================] - 0s 2ms/step - loss: 0.0032 - mae: 0.0410 - val_loss: 0.0047 - val_mae: 0.0498\n",
            "Epoch 21/40\n",
            "67/67 [==============================] - 0s 2ms/step - loss: 0.0030 - mae: 0.0420 - val_loss: 0.0042 - val_mae: 0.0501\n",
            "Epoch 22/40\n",
            "67/67 [==============================] - 0s 2ms/step - loss: 0.0033 - mae: 0.0444 - val_loss: 0.0051 - val_mae: 0.0546\n",
            "Epoch 23/40\n",
            "67/67 [==============================] - 0s 2ms/step - loss: 0.0034 - mae: 0.0456 - val_loss: 0.0036 - val_mae: 0.0444\n",
            "Epoch 24/40\n",
            "67/67 [==============================] - 0s 2ms/step - loss: 0.0036 - mae: 0.0459 - val_loss: 0.0032 - val_mae: 0.0398\n",
            "Epoch 25/40\n",
            "67/67 [==============================] - 0s 2ms/step - loss: 0.0030 - mae: 0.0406 - val_loss: 0.0036 - val_mae: 0.0451\n",
            "Epoch 26/40\n",
            "67/67 [==============================] - 0s 2ms/step - loss: 0.0024 - mae: 0.0374 - val_loss: 0.0049 - val_mae: 0.0572\n",
            "Epoch 27/40\n",
            "67/67 [==============================] - 0s 2ms/step - loss: 0.0039 - mae: 0.0480 - val_loss: 0.0035 - val_mae: 0.0421\n",
            "Epoch 28/40\n",
            "67/67 [==============================] - 0s 2ms/step - loss: 0.0033 - mae: 0.0443 - val_loss: 0.0041 - val_mae: 0.0459\n",
            "Epoch 29/40\n",
            "67/67 [==============================] - 0s 2ms/step - loss: 0.0033 - mae: 0.0424 - val_loss: 0.0049 - val_mae: 0.0570\n",
            "Epoch 30/40\n",
            "67/67 [==============================] - 0s 2ms/step - loss: 0.0033 - mae: 0.0432 - val_loss: 0.0044 - val_mae: 0.0469\n",
            "Epoch 31/40\n",
            "67/67 [==============================] - 0s 2ms/step - loss: 0.0030 - mae: 0.0420 - val_loss: 0.0060 - val_mae: 0.0638\n",
            "Epoch 32/40\n",
            "67/67 [==============================] - 0s 2ms/step - loss: 0.0037 - mae: 0.0482 - val_loss: 0.0033 - val_mae: 0.0397\n",
            "Epoch 33/40\n",
            "67/67 [==============================] - 0s 2ms/step - loss: 0.0025 - mae: 0.0367 - val_loss: 0.0039 - val_mae: 0.0423\n",
            "Epoch 34/40\n",
            "67/67 [==============================] - 0s 2ms/step - loss: 0.0032 - mae: 0.0387 - val_loss: 0.0036 - val_mae: 0.0406\n",
            "Epoch 35/40\n",
            "67/67 [==============================] - 0s 2ms/step - loss: 0.0033 - mae: 0.0410 - val_loss: 0.0036 - val_mae: 0.0426\n",
            "Epoch 36/40\n",
            "67/67 [==============================] - 0s 2ms/step - loss: 0.0030 - mae: 0.0411 - val_loss: 0.0044 - val_mae: 0.0472\n",
            "Epoch 37/40\n",
            "67/67 [==============================] - 0s 2ms/step - loss: 0.0034 - mae: 0.0451 - val_loss: 0.0039 - val_mae: 0.0415\n",
            "Epoch 38/40\n",
            "67/67 [==============================] - 0s 2ms/step - loss: 0.0033 - mae: 0.0431 - val_loss: 0.0038 - val_mae: 0.0434\n",
            "Epoch 39/40\n",
            "67/67 [==============================] - 0s 2ms/step - loss: 0.0023 - mae: 0.0360 - val_loss: 0.0037 - val_mae: 0.0447\n",
            "Epoch 40/40\n",
            "67/67 [==============================] - 0s 2ms/step - loss: 0.0034 - mae: 0.0445 - val_loss: 0.0047 - val_mae: 0.0531\n"
          ],
          "name": "stdout"
        },
        {
          "output_type": "execute_result",
          "data": {
            "text/plain": [
              "<tensorflow.python.keras.callbacks.History at 0x7f26e66f1510>"
            ]
          },
          "metadata": {
            "tags": []
          },
          "execution_count": 31
        }
      ]
    },
    {
      "cell_type": "code",
      "metadata": {
        "colab": {
          "base_uri": "https://localhost:8080/"
        },
        "id": "sw6Va5-jOslP",
        "outputId": "ce250be7-02bc-49b9-ad9a-3c71d3a3e65e"
      },
      "source": [
        "res_mse, rse_mae = my_model_2.evaluate(features_test_scaled, labels_test, verbose=0)\n",
        "\n",
        "print(\"MSE \", res_mse)\n",
        "print(\"MAE \", rse_mae)"
      ],
      "execution_count": 32,
      "outputs": [
        {
          "output_type": "stream",
          "text": [
            "MSE  0.005745344795286655\n",
            "MAE  0.05882490426301956\n"
          ],
          "name": "stdout"
        }
      ]
    },
    {
      "cell_type": "markdown",
      "metadata": {
        "id": "hHx1M1Y8O0vu"
      },
      "source": [
        "By adding a leyer there has been a slight decrease in performance. "
      ]
    }
  ]
}